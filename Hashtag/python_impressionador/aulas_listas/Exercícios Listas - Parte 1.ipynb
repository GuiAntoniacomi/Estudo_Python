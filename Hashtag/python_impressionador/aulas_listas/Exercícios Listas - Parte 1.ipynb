{
 "cells": [
  {
   "cell_type": "markdown",
   "metadata": {},
   "source": [
    "# Exercícios\n",
    "\n",
    "## 1. Faturamento do Melhor e do Pior Mês do Ano\n",
    "\n",
    "Qual foi o valor de vendas do melhor mês do Ano?\n",
    "E valor do pior mês do ano?"
   ]
  },
  {
   "cell_type": "code",
   "execution_count": 49,
   "metadata": {},
   "outputs": [
    {
     "name": "stdout",
     "output_type": "stream",
     "text": [
      "O valor de vendas do melhor mês do ano foi 49051 e o do pior mês foi 9650.\n"
     ]
    }
   ],
   "source": [
    "meses = ['jan', 'fev', 'mar', 'abr', 'mai', 'jun', 'jul', 'ago', 'set', 'out', 'nov', 'dez']\n",
    "vendas_1sem = [25000, 29000, 22200, 17750, 15870, 19900]\n",
    "vendas_2sem = [19850, 20120, 17540, 15555, 49051, 9650]\n",
    "\n",
    "vendas_ano = vendas_1sem + vendas_2sem\n",
    "v_maior = max(vendas_ano)\n",
    "i_maior = vendas_ano.index(v_maior)\n",
    "v_menor = min(vendas_ano)\n",
    "i_menor = vendas_ano.index(v_menor)\n",
    "print(f'O valor de vendas do melhor mês do ano foi {v_maior} e o do pior mês foi {v_menor}.')"
   ]
  },
  {
   "cell_type": "markdown",
   "metadata": {},
   "source": [
    "## 2. Continuação\n",
    "\n",
    "Agora relacione as duas listas para printar 'O melhor mês do ano foi {} com {} vendas' e o mesmo para o pior mês do ano.\n",
    "\n",
    "Calcule também o faturamento total do Ano e quanto que o melhor mês representou do faturamento total.\n",
    "\n",
    "Obs: Para o faturamento total, pode usar a função sum(lista) que soma todos os itens de uma lista"
   ]
  },
  {
   "cell_type": "code",
   "execution_count": 50,
   "metadata": {},
   "outputs": [
    {
     "name": "stdout",
     "output_type": "stream",
     "text": [
      "O melhor mês do ano foi nov com 49051 vendas, isso representou 18.76% do total de vendas!\n",
      "O pior mês do ano foi dez com 9650 vendas\n"
     ]
    }
   ],
   "source": [
    "total = sum(vendas_ano)\n",
    "rep = v_maior / total * 100\n",
    "print(f'O melhor mês do ano foi {meses[i_maior]} com {v_maior} vendas, isso representou {rep:.2f}% do total de vendas!')\n",
    "print(f'O pior mês do ano foi {meses[i_menor]} com {v_menor} vendas')"
   ]
  },
  {
   "cell_type": "markdown",
   "metadata": {},
   "source": [
    "## 3. Crie uma lista com o top 3 valores de vendas do ano (sem fazer \"no olho\")\n",
    "\n",
    "Dica: o método remove retira um item da lista."
   ]
  },
  {
   "cell_type": "code",
   "execution_count": 51,
   "metadata": {},
   "outputs": [
    {
     "data": {
      "text/plain": [
       "[49051, 29000, 25000]"
      ]
     },
     "execution_count": 51,
     "metadata": {},
     "output_type": "execute_result"
    }
   ],
   "source": [
    "top3 = []\n",
    "top3.append(v_maior)\n",
    "vendas_ano.remove(v_maior)\n",
    "s_maior = max(vendas_ano)\n",
    "top3.append(s_maior)\n",
    "vendas_ano.remove(s_maior)\n",
    "t_maior = max(vendas_ano)\n",
    "top3.append(t_maior)\n",
    "top3\n"
   ]
  }
 ],
 "metadata": {
  "kernelspec": {
   "display_name": "Python 3",
   "language": "python",
   "name": "python3"
  },
  "language_info": {
   "codemirror_mode": {
    "name": "ipython",
    "version": 3
   },
   "file_extension": ".py",
   "mimetype": "text/x-python",
   "name": "python",
   "nbconvert_exporter": "python",
   "pygments_lexer": "ipython3",
   "version": "3.12.1"
  }
 },
 "nbformat": 4,
 "nbformat_minor": 4
}
