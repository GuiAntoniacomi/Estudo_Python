{
 "cells": [
  {
   "cell_type": "markdown",
   "metadata": {},
   "source": [
    "## Exercício\n",
    "\n",
    "Você é um gerente de vendas e tem os dados de vendas de três produtos diferentes (Produto A, Produto B, Produto C) para os últimos 5 dias em um array 2D NumPy. Cada linha do array representa um produto e cada coluna representa um dia. Seu trabalho é calcular as vendas totais para cada produto e para cada dia.\n",
    "\n",
    "Use o seguinte array para sua análise:\n",
    "\n",
    "```python\n",
    "vendas = np.array([[50, 60, 70, 65, 80],\n",
    "                   [85, 90, 78, 92, 88],\n",
    "                   [72, 75, 68, 77, 76]])\n",
    "```\n",
    "\n",
    "**Solução:**\n"
   ]
  },
  {
   "cell_type": "code",
   "execution_count": 9,
   "metadata": {
    "ExecuteTime": {
     "end_time": "2023-07-03T12:12:12.700234800Z",
     "start_time": "2023-07-03T12:12:12.677347900Z"
    },
    "collapsed": false,
    "jupyter": {
     "outputs_hidden": false
    }
   },
   "outputs": [
    {
     "name": "stdout",
     "output_type": "stream",
     "text": [
      "O produto A a vendeu: 325\n",
      "O produto B a vendeu: 433\n",
      "O produto C a vendeu: 368\n",
      "No dia 1 foram vendidos 207 unidades\n",
      "No dia 2 foram vendidos 225 unidades\n",
      "No dia 3 foram vendidos 216 unidades\n",
      "No dia 4 foram vendidos 234 unidades\n",
      "No dia 5 foram vendidos 244 unidades\n"
     ]
    }
   ],
   "source": [
    "import numpy as np\n",
    "\n",
    "vendas = np.array([[50, 60, 70, 65, 80],     # Produto A\n",
    "                   [85, 90, 78, 92, 88],     # Produto B\n",
    "                   [72, 75, 68, 77, 76]])    # Produto C\n",
    "\n",
    "vendas_totais = vendas.sum(axis=1)\n",
    "print(f'O produto A a vendeu: {vendas_totais[0]}\\nO produto B a vendeu: {vendas_totais[1]}\\nO produto C a vendeu: {vendas_totais[2]}')\n",
    "\n",
    "vendas_por_dia = vendas.sum(axis=0)\n",
    "for i, vendas in enumerate(vendas_por_dia):\n",
    "    print(f'No dia {i+1} foram vendidos {vendas} unidades')\n",
    "    \n",
    "\n"
   ]
  }
 ],
 "metadata": {
  "kernelspec": {
   "display_name": "Python 3 (ipykernel)",
   "language": "python",
   "name": "python3"
  },
  "language_info": {
   "codemirror_mode": {
    "name": "ipython",
    "version": 3
   },
   "file_extension": ".py",
   "mimetype": "text/x-python",
   "name": "python",
   "nbconvert_exporter": "python",
   "pygments_lexer": "ipython3",
   "version": "3.12.1"
  }
 },
 "nbformat": 4,
 "nbformat_minor": 4
}
