{
 "cells": [
  {
   "cell_type": "markdown",
   "metadata": {},
   "source": [
    "## Exercício\n",
    "\n",
    "Você é um engenheiro de produção e tem os tempos de ciclo (em minutos) de uma linha de produção em um array NumPy. Seu trabalho é identificar quaisquer tempos de ciclo que estão dois desvios padrão acima ou abaixo da média. Use o seguinte array para sua análise: `tempos_ciclo = np.array([5.5, 5.7, 5.9, 6.0, 5.8, 5.6, 5.7, 7.2, 4.8])`. "
   ]
  },
  {
   "cell_type": "code",
   "execution_count": 1,
   "metadata": {
    "ExecuteTime": {
     "end_time": "2023-07-03T12:12:12.700234800Z",
     "start_time": "2023-07-03T12:12:12.644925Z"
    },
    "collapsed": false,
    "jupyter": {
     "outputs_hidden": false
    }
   },
   "outputs": [
    {
     "name": "stdout",
     "output_type": "stream",
     "text": [
      "5.8\n"
     ]
    }
   ],
   "source": [
    "import numpy as np\n",
    "\n",
    "tempos_ciclo = np.array([5.5, 5.7, 5.9, 6.0, 5.8, 5.6, 5.7, 7.2, 4.8])\n",
    "media = np.mean(tempos_ciclo) \n",
    "print(media)"
   ]
  },
  {
   "cell_type": "code",
   "execution_count": 2,
   "metadata": {},
   "outputs": [
    {
     "name": "stdout",
     "output_type": "stream",
     "text": [
      "0.592546294487706\n"
     ]
    }
   ],
   "source": [
    "desvio_padrão = np.std(tempos_ciclo)\n",
    "print(desvio_padrão)"
   ]
  },
  {
   "cell_type": "code",
   "execution_count": 5,
   "metadata": {},
   "outputs": [
    {
     "name": "stdout",
     "output_type": "stream",
     "text": [
      "(array([7], dtype=int64),)\n",
      "[7.2]\n"
     ]
    }
   ],
   "source": [
    "condicao = (tempos_ciclo > media + 2 * desvio_padrão) | (tempos_ciclo < media - 2 * desvio_padrão)\n",
    "anomalias = np.where(condicao)\n",
    "\n",
    "print(anomalias)\n",
    "print(tempos_ciclo[anomalias])"
   ]
  },
  {
   "cell_type": "markdown",
   "metadata": {},
   "source": [
    "## Bônus\n"
   ]
  },
  {
   "cell_type": "code",
   "execution_count": 6,
   "metadata": {},
   "outputs": [
    {
     "name": "stdout",
     "output_type": "stream",
     "text": [
      "[False False False False False False False  True False]\n"
     ]
    }
   ],
   "source": [
    "condicao = (tempos_ciclo > media + 2 * desvio_padrão) | (tempos_ciclo < media - 2 * desvio_padrão)\n",
    "print(condicao)"
   ]
  },
  {
   "cell_type": "code",
   "execution_count": 7,
   "metadata": {},
   "outputs": [
    {
     "name": "stdout",
     "output_type": "stream",
     "text": [
      "(array([7], dtype=int64),)\n"
     ]
    }
   ],
   "source": [
    "print(np.where(condicao))"
   ]
  },
  {
   "cell_type": "code",
   "execution_count": 10,
   "metadata": {},
   "outputs": [
    {
     "name": "stdout",
     "output_type": "stream",
     "text": [
      "(array([0, 1, 2, 3, 4, 5, 6, 8], dtype=int64),)\n",
      "(array([0, 1, 2, 3, 4, 5, 6, 8], dtype=int64),)\n",
      "[ True  True  True  True  True  True  True False  True]\n"
     ]
    }
   ],
   "source": [
    "contrario_condicao = ((tempos_ciclo <= media + 2 * desvio_padrão) & (tempos_ciclo >= media - 2 * desvio_padrão))\n",
    "print(np.where(contrario_condicao))\n",
    "print(np.where(~condicao))\n",
    "print(~condicao)"
   ]
  },
  {
   "cell_type": "markdown",
   "metadata": {},
   "source": [
    "## Bônus 2"
   ]
  },
  {
   "cell_type": "code",
   "execution_count": 11,
   "metadata": {},
   "outputs": [
    {
     "name": "stdout",
     "output_type": "stream",
     "text": [
      "[6.12783251 5.92893843 5.76563825 4.42592301 6.05568027 4.54008079\n",
      " 6.33917045 6.15906265 6.29184699 6.29044959 5.97688364 5.48298689\n",
      " 5.61805138 6.69360264 5.45500214 5.66482609 5.37069162 5.49350582\n",
      " 5.61835026 5.95201873 5.62587668 5.58981881 5.43450847 5.85308294\n",
      " 5.00351942 5.83092197 6.57625089 5.34556862 5.77310329 7.46932676\n",
      " 5.21179446 4.8393986  5.54709583 6.8706944  7.00590016 5.07947125\n",
      " 6.13783469 5.80267916 5.45136309 4.64708397 6.40711344 5.29009122\n",
      " 5.9771759  5.84852596 6.90816898 6.49683135 5.1154099  5.64451872\n",
      " 6.41438018 5.01012692 5.567551   5.9348492  4.8425482  5.06793385\n",
      " 4.79025549 5.97004649 5.46727668 6.3502671  5.86742836 6.1389467\n",
      " 5.75041819 6.24554966 5.7387798  5.21800011 6.50084502 6.3807002\n",
      " 7.14312066 5.71573936 5.45638224 4.94256033 3.51319941 5.02471341\n",
      " 6.08846253 5.2752818  4.26244665 6.16042204 5.44941554 5.58608836\n",
      " 5.54435212 5.72018496 6.08113008 4.77221859 5.6654224  5.49863741\n",
      " 6.47356202 5.18653839 6.77024208 6.16028782 6.76267642 5.3825598\n",
      " 6.27756394 6.01515593 4.91256098 5.64539407 5.53175647 5.22750917\n",
      " 5.34483583 4.94683596 5.52317785 5.99799123]\n"
     ]
    }
   ],
   "source": [
    "rng = np.random.default_rng(seed=23)\n",
    "tempos_gerados = rng.normal(loc=media, scale=desvio_padrão, size=100)\n",
    "print(tempos_gerados)"
   ]
  },
  {
   "cell_type": "code",
   "execution_count": 12,
   "metadata": {},
   "outputs": [
    {
     "name": "stdout",
     "output_type": "stream",
     "text": [
      "5.8\n",
      "5.7134800008241085\n"
     ]
    }
   ],
   "source": [
    "print(media)\n",
    "print(tempos_gerados.mean())"
   ]
  },
  {
   "cell_type": "code",
   "execution_count": 13,
   "metadata": {},
   "outputs": [
    {
     "name": "stdout",
     "output_type": "stream",
     "text": [
      "0.592546294487706\n",
      "0.6514115912550178\n"
     ]
    }
   ],
   "source": [
    "print(desvio_padrão)\n",
    "print(tempos_gerados.std())"
   ]
  }
 ],
 "metadata": {
  "kernelspec": {
   "display_name": "Python 3 (ipykernel)",
   "language": "python",
   "name": "python3"
  },
  "language_info": {
   "codemirror_mode": {
    "name": "ipython",
    "version": 3
   },
   "file_extension": ".py",
   "mimetype": "text/x-python",
   "name": "python",
   "nbconvert_exporter": "python",
   "pygments_lexer": "ipython3",
   "version": "3.12.1"
  }
 },
 "nbformat": 4,
 "nbformat_minor": 4
}
