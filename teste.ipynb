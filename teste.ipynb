{
 "cells": [
  {
   "cell_type": "code",
   "execution_count": 1,
   "metadata": {},
   "outputs": [
    {
     "name": "stdout",
     "output_type": "stream",
     "text": [
      "     SKU PRODUTO       DATA             SITUAÇÃO Quem Fez\n",
      "0         291216 2024-04-02                   Ok    Jaque\n",
      "1         292609 2024-04-08                   Ok    Jaque\n",
      "2         293101 2024-04-02                   Ok    Jaque\n",
      "3         294372 2024-04-01  Cadastro atualizado    Jaque\n",
      "4         203021 2024-04-01  Cadastro atualizado    Jaque\n",
      "..           ...        ...                  ...      ...\n",
      "889       262411 2024-05-06  Cadastro atualizado    Breno\n",
      "890       229319 2024-05-06  Cadastro atualizado    Breno\n",
      "891       229320 2024-05-06  Cadastro atualizado    Breno\n",
      "892       294883 2024-05-06                   Ok    Breno\n",
      "893       295850 2024-05-06                   Ok    Breno\n",
      "\n",
      "[894 rows x 4 columns]\n"
     ]
    }
   ],
   "source": [
    "import pandas as pd\n",
    "\n",
    "data = pd.read_excel(\"C:\\\\Users\\\\anton\\\\OneDrive\\\\Área de Trabalho\\\\Cadastro Abril.xlsx\")\n",
    "\n",
    "print(data)"
   ]
  }
 ],
 "metadata": {
  "kernelspec": {
   "display_name": "Python 3",
   "language": "python",
   "name": "python3"
  },
  "language_info": {
   "codemirror_mode": {
    "name": "ipython",
    "version": 3
   },
   "file_extension": ".py",
   "mimetype": "text/x-python",
   "name": "python",
   "nbconvert_exporter": "python",
   "pygments_lexer": "ipython3",
   "version": "3.12.1"
  }
 },
 "nbformat": 4,
 "nbformat_minor": 2
}
