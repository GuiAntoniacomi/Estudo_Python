{
 "cells": [
  {
   "cell_type": "code",
   "execution_count": 31,
   "metadata": {},
   "outputs": [
    {
     "name": "stdout",
     "output_type": "stream",
     "text": [
      "A soma dos primeiros 6 númeoros naturais é igual a 21.\n"
     ]
    }
   ],
   "source": [
    "n = int(input('Digite um número: '))\n",
    "soma= 0\n",
    "for i in range(0, n+1):\n",
    "    soma += i\n",
    "print(f'A soma dos primeiros {n} númeoros naturais é igual a {soma}.')"
   ]
  },
  {
   "cell_type": "code",
   "execution_count": 29,
   "metadata": {},
   "outputs": [
    {
     "name": "stdout",
     "output_type": "stream",
     "text": [
      "O resultado de 5! é igual a 120.\n"
     ]
    }
   ],
   "source": [
    "n = int(input('Digite um número para descobrir seu fatorial: '))\n",
    "mult= 1\n",
    "for i in range(n, 0, -1):\n",
    "    mult *= i\n",
    "print(f'O resultado de {n}! é igual a {mult}.')"
   ]
  },
  {
   "cell_type": "code",
   "execution_count": 33,
   "metadata": {},
   "outputs": [
    {
     "name": "stdout",
     "output_type": "stream",
     "text": [
      "A string possui 14 vogais.\n"
     ]
    }
   ],
   "source": [
    "# Pedindo ao usuário para inserir a string\n",
    "string = input(\"Digite uma string: \")\n",
    "\n",
    "# Inicializando a contagem de vogais\n",
    "contagem_vogais = 0\n",
    "\n",
    "# Definindo uma lista de vogais\n",
    "vogais = \"aeiouAEIOU\"\n",
    "\n",
    "# Usando um loop for para percorrer a string e contar as vogais\n",
    "for vog in string:\n",
    "    if vog in vogais:\n",
    "        contagem_vogais += 1\n",
    "\n",
    "# Exibindo o resultado\n",
    "print(\"A string possui\", contagem_vogais, \"vogais.\")\n"
   ]
  },
  {
   "cell_type": "code",
   "execution_count": 36,
   "metadata": {},
   "outputs": [
    {
     "name": "stdout",
     "output_type": "stream",
     "text": [
      "A senha digitada esta errada, tente novamente!\n",
      "A senha digitada esta errada, tente novamente!\n",
      "Bem vindo a plataforma!\n"
     ]
    }
   ],
   "source": [
    "password = 'python123'\n",
    "senha = input(\"Digite uma senha: \")\n",
    "while senha != password:\n",
    "    print(\"A senha digitada esta errada, tente novamente!\")\n",
    "    senha = input(\"Digite uma senha: \")\n",
    "print(\"Bem vindo a plataforma!\")"
   ]
  },
  {
   "cell_type": "code",
   "execution_count": 1,
   "metadata": {},
   "outputs": [
    {
     "name": "stdout",
     "output_type": "stream",
     "text": [
      "--------------------\n",
      "CADASTRE UMA PESSOA\n",
      "--------------------\n",
      "--------------------\n",
      "CADASTRE UMA PESSOA\n",
      "--------------------\n",
      "--------------------\n",
      "CADASTRE UMA PESSOA\n",
      "--------------------\n",
      "--------------------\n",
      "CADASTRE UMA PESSOA\n",
      "--------------------\n",
      "====== FIM DO PROGRAMA ======\n",
      "Total de pessoas com mais de 18 anos: 2\n",
      "Ao todo temos 2 homens cadastraods\n",
      "E temos 1 mulheres com menos de 20 anos\n"
     ]
    }
   ],
   "source": [
    "m = 0\n",
    "f = 0\n",
    "mulheres_maioridade = 0\n",
    "homens_maioridade = 0\n",
    "mulheres_menoridade = 0\n",
    "homens_menoridade = 0\n",
    "mulheres_under_20 = 0\n",
    "\n",
    "print('-'*20)\n",
    "print('CADASTRE UMA PESSOA')\n",
    "print('-'*20)\n",
    "\n",
    "while True:\n",
    "    idade = int(input('Digite sua idade: '))\n",
    "    Sexo = str(input('Digite seu sexo: [M/F] ')).upper()\n",
    "    while Sexo not in ['M', 'F']:  # Verifica se o sexo é válido\n",
    "        Sexo = str(input('Digite seu sexo: [M/F] ')).upper()\n",
    "    if Sexo == 'M':\n",
    "        m += 1\n",
    "        if idade >= 18:\n",
    "            homens_maioridade += 1\n",
    "        else:\n",
    "            homens_menoridade += 1\n",
    "    elif Sexo == 'F':\n",
    "        f += 1\n",
    "        if idade < 20:\n",
    "            mulheres_under_20 += 1\n",
    "            if idade >= 18:\n",
    "                mulheres_maioridade += 1\n",
    "        else:\n",
    "            homens_menoridade += 1\n",
    "    perg = str(input(\"Deseja continuar? [S/N] \")).upper()\n",
    "    while perg not in ['S', 'N']:  \n",
    "        perg = str(input(\"Deseja continuar? [S/N] \")).upper()\n",
    "    if perg == 'N':\n",
    "        total_pessoas = m + f\n",
    "        pessoas_maioridade = homens_maioridade + mulheres_maioridade\n",
    "        pessoas_menoridade = homens_menoridade + mulheres_menoridade\n",
    "        print('====== FIM DO PROGRAMA ======')\n",
    "        print(f'Total de pessoas com mais de 18 anos: {pessoas_maioridade}')\n",
    "        print(f'Ao todo temos {m} homens cadastraods')\n",
    "        print(f'E temos {mulheres_under_20} mulheres com menos de 20 anos')\n",
    "        break\n",
    "    else:\n",
    "        print('-'*20)\n",
    "        print('CADASTRE UMA PESSOA')\n",
    "        print('-'*20)"
   ]
  },
  {
   "cell_type": "code",
   "execution_count": 22,
   "metadata": {},
   "outputs": [
    {
     "name": "stdout",
     "output_type": "stream",
     "text": [
      "==============================\n",
      "        BANCO GUIZEIRA        \n",
      "==============================\n",
      "Total de 2 cédulas de R$50\n",
      "Total de 1 cédulas de R$20\n",
      "Total de 5 cédulas de R$1\n",
      "========================================\n",
      "Volte sempre e tenha um ótimo dia!\n"
     ]
    }
   ],
   "source": [
    "print('='*30)\n",
    "print(f'{'BANCO GUIZEIRA':^30}')\n",
    "print('='*30)\n",
    "valor = int(input(\"Qual o valor do saque?\"))\n",
    "total = valor\n",
    "ced = 50\n",
    "totced = 0\n",
    "while True:\n",
    "    if total >= ced:\n",
    "        total -= ced\n",
    "        totced += 1\n",
    "    else:\n",
    "        if totced > 0:\n",
    "            print(f'Total de {totced} cédulas de R${ced}')\n",
    "        if ced == 50:\n",
    "            ced = 20\n",
    "        elif ced == 20:\n",
    "            ced = 10\n",
    "        elif ced == 10:\n",
    "            ced = 1\n",
    "        totced = 0\n",
    "        if total == 0:\n",
    "            break\n",
    "print('='*30)\n",
    "print('Volte sempre e tenha um ótimo dia!')"
   ]
  }
 ],
 "metadata": {
  "kernelspec": {
   "display_name": "Python 3",
   "language": "python",
   "name": "python3"
  },
  "language_info": {
   "codemirror_mode": {
    "name": "ipython",
    "version": 3
   },
   "file_extension": ".py",
   "mimetype": "text/x-python",
   "name": "python",
   "nbconvert_exporter": "python",
   "pygments_lexer": "ipython3",
   "version": "3.12.1"
  }
 },
 "nbformat": 4,
 "nbformat_minor": 2
}
