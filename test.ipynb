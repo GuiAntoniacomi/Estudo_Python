{
 "cells": [
  {
   "cell_type": "code",
   "execution_count": 31,
   "metadata": {},
   "outputs": [
    {
     "name": "stdout",
     "output_type": "stream",
     "text": [
      "A soma dos primeiros 6 númeoros naturais é igual a 21.\n"
     ]
    }
   ],
   "source": [
    "n = int(input('Digite um número: '))\n",
    "soma= 0\n",
    "for i in range(0, n+1):\n",
    "    soma += i\n",
    "print(f'A soma dos primeiros {n} númeoros naturais é igual a {soma}.')"
   ]
  },
  {
   "cell_type": "code",
   "execution_count": 29,
   "metadata": {},
   "outputs": [
    {
     "name": "stdout",
     "output_type": "stream",
     "text": [
      "O resultado de 5! é igual a 120.\n"
     ]
    }
   ],
   "source": [
    "n = int(input('Digite um número para descobrir seu fatorial: '))\n",
    "mult= 1\n",
    "for i in range(n, 0, -1):\n",
    "    mult *= i\n",
    "print(f'O resultado de {n}! é igual a {mult}.')"
   ]
  },
  {
   "cell_type": "code",
   "execution_count": 33,
   "metadata": {},
   "outputs": [
    {
     "name": "stdout",
     "output_type": "stream",
     "text": [
      "A string possui 14 vogais.\n"
     ]
    }
   ],
   "source": [
    "# Pedindo ao usuário para inserir a string\n",
    "string = input(\"Digite uma string: \")\n",
    "\n",
    "# Inicializando a contagem de vogais\n",
    "contagem_vogais = 0\n",
    "\n",
    "# Definindo uma lista de vogais\n",
    "vogais = \"aeiouAEIOU\"\n",
    "\n",
    "# Usando um loop for para percorrer a string e contar as vogais\n",
    "for vog in string:\n",
    "    if vog in vogais:\n",
    "        contagem_vogais += 1\n",
    "\n",
    "# Exibindo o resultado\n",
    "print(\"A string possui\", contagem_vogais, \"vogais.\")\n"
   ]
  },
  {
   "cell_type": "code",
   "execution_count": 36,
   "metadata": {},
   "outputs": [
    {
     "name": "stdout",
     "output_type": "stream",
     "text": [
      "A senha digitada esta errada, tente novamente!\n",
      "A senha digitada esta errada, tente novamente!\n",
      "Bem vindo a plataforma!\n"
     ]
    }
   ],
   "source": [
    "password = 'python123'\n",
    "senha = input(\"Digite uma senha: \")\n",
    "while senha != password:\n",
    "    print(\"A senha digitada esta errada, tente novamente!\")\n",
    "    senha = input(\"Digite uma senha: \")\n",
    "print(\"Bem vindo a plataforma!\")"
   ]
  },
  {
   "cell_type": "code",
   "execution_count": 1,
   "metadata": {},
   "outputs": [
    {
     "name": "stdout",
     "output_type": "stream",
     "text": [
      "--------------------\n",
      "CADASTRE UMA PESSOA\n",
      "--------------------\n",
      "--------------------\n",
      "CADASTRE UMA PESSOA\n",
      "--------------------\n",
      "--------------------\n",
      "CADASTRE UMA PESSOA\n",
      "--------------------\n",
      "--------------------\n",
      "CADASTRE UMA PESSOA\n",
      "--------------------\n",
      "====== FIM DO PROGRAMA ======\n",
      "Total de pessoas com mais de 18 anos: 2\n",
      "Ao todo temos 2 homens cadastraods\n",
      "E temos 1 mulheres com menos de 20 anos\n"
     ]
    }
   ],
   "source": [
    "m = 0\n",
    "f = 0\n",
    "mulheres_maioridade = 0\n",
    "homens_maioridade = 0\n",
    "mulheres_menoridade = 0\n",
    "homens_menoridade = 0\n",
    "mulheres_under_20 = 0\n",
    "\n",
    "print('-'*20)\n",
    "print('CADASTRE UMA PESSOA')\n",
    "print('-'*20)\n",
    "\n",
    "while True:\n",
    "    idade = int(input('Digite sua idade: '))\n",
    "    Sexo = str(input('Digite seu sexo: [M/F] ')).upper()\n",
    "    while Sexo not in ['M', 'F']:  # Verifica se o sexo é válido\n",
    "        Sexo = str(input('Digite seu sexo: [M/F] ')).upper()\n",
    "    if Sexo == 'M':\n",
    "        m += 1\n",
    "        if idade >= 18:\n",
    "            homens_maioridade += 1\n",
    "        else:\n",
    "            homens_menoridade += 1\n",
    "    elif Sexo == 'F':\n",
    "        f += 1\n",
    "        if idade < 20:\n",
    "            mulheres_under_20 += 1\n",
    "            if idade >= 18:\n",
    "                mulheres_maioridade += 1\n",
    "        else:\n",
    "            homens_menoridade += 1\n",
    "    perg = str(input(\"Deseja continuar? [S/N] \")).upper()\n",
    "    while perg not in ['S', 'N']:  \n",
    "        perg = str(input(\"Deseja continuar? [S/N] \")).upper()\n",
    "    if perg == 'N':\n",
    "        total_pessoas = m + f\n",
    "        pessoas_maioridade = homens_maioridade + mulheres_maioridade\n",
    "        pessoas_menoridade = homens_menoridade + mulheres_menoridade\n",
    "        print('====== FIM DO PROGRAMA ======')\n",
    "        print(f'Total de pessoas com mais de 18 anos: {pessoas_maioridade}')\n",
    "        print(f'Ao todo temos {m} homens cadastraods')\n",
    "        print(f'E temos {mulheres_under_20} mulheres com menos de 20 anos')\n",
    "        break\n",
    "    else:\n",
    "        print('-'*20)\n",
    "        print('CADASTRE UMA PESSOA')\n",
    "        print('-'*20)"
   ]
  },
  {
   "cell_type": "code",
   "execution_count": 22,
   "metadata": {},
   "outputs": [
    {
     "name": "stdout",
     "output_type": "stream",
     "text": [
      "==============================\n",
      "        BANCO GUIZEIRA        \n",
      "==============================\n",
      "Total de 2 cédulas de R$50\n",
      "Total de 1 cédulas de R$20\n",
      "Total de 5 cédulas de R$1\n",
      "========================================\n",
      "Volte sempre e tenha um ótimo dia!\n"
     ]
    }
   ],
   "source": [
    "print('='*30)\n",
    "print(f'{'BANCO GUIZEIRA':^30}')\n",
    "print('='*30)\n",
    "valor = int(input(\"Qual o valor do saque?\"))\n",
    "total = valor\n",
    "ced = 50\n",
    "totced = 0\n",
    "while True:\n",
    "    if total >= ced:\n",
    "        total -= ced\n",
    "        totced += 1\n",
    "    else:\n",
    "        if totced > 0:\n",
    "            print(f'Total de {totced} cédulas de R${ced}')\n",
    "        if ced == 50:\n",
    "            ced = 20\n",
    "        elif ced == 20:\n",
    "            ced = 10\n",
    "        elif ced == 10:\n",
    "            ced = 1\n",
    "        totced = 0\n",
    "        if total == 0:\n",
    "            break\n",
    "print('='*30)\n",
    "print('Volte sempre e tenha um ótimo dia!')"
   ]
  },
  {
   "cell_type": "code",
   "execution_count": null,
   "metadata": {},
   "outputs": [
    {
     "name": "stdout",
     "output_type": "stream",
     "text": [
      "=-=-=-=-=-=-=-=-=-=-=-=-=-=-=-=-=-=-=-=-\n",
      "Os números digitados em ordem foram: [1, 3, 4, 8, 9]\n"
     ]
    }
   ],
   "source": [
    "valores = []\n",
    "for _ in range(5):\n",
    "    num = int(input('Digite um valor numérico: '))\n",
    "    if not valores:  # Se a lista estiver vazia, adiciona o número diretamente\n",
    "        valores.append(num)\n",
    "    else:\n",
    "        index = 0\n",
    "        while index < len(valores) and num > valores[index]:\n",
    "            index += 1\n",
    "        valores.insert(index, num)\n",
    "print('=-'*20)\n",
    "print(f'Os números digitados em ordem foram: {valores}')\n"
   ]
  },
  {
   "cell_type": "code",
   "execution_count": 5,
   "metadata": {},
   "outputs": [
    {
     "name": "stdout",
     "output_type": "stream",
     "text": [
      "=-=-=-=-=-=-=-=-=-=-=-=-=-=-=-=-=-=-=-=-=-=-=-=-=-=-=-=-=-=-\n",
      "Você digitou os valores [1, 8, 3, 2, 8]\n",
      "O maior valor digitado foi 8 nas posições  1...  4...  \n",
      "O menor valor digitado foi 1 0... \n"
     ]
    }
   ],
   "source": [
    "listanum = []\n",
    "for c in range(0, 5):\n",
    "    listanum.append(int(input(f'Digite um valor para a Posição {c}: ')))\n",
    "    if c ==0:\n",
    "        maior = menor = listanum[c]\n",
    "    else:\n",
    "        if listanum[c] > maior:\n",
    "            maior = listanum[c]\n",
    "        if listanum[c] < menor:\n",
    "            menor = listanum[c]\n",
    "print('=-'*30)\n",
    "print(f'Você digitou os valores {listanum}')\n",
    "print(f'O maior valor digitado foi {maior} nas posições ', end=\" \")\n",
    "for i, v in enumerate(listanum): # i = indice e v = valor\n",
    "    if v == maior:\n",
    "        print(f'{i}...', end=\" \")\n",
    "print()\n",
    "print(f'O menor valor digitado foi {menor} nas posições ', end=\" \")\n",
    "for i, v in enumerate(listanum):\n",
    "    if v == menor:\n",
    "        print(f'{i}...', end=\"\")\n",
    "print()"
   ]
  },
  {
   "cell_type": "code",
   "execution_count": 8,
   "metadata": {},
   "outputs": [
    {
     "name": "stdout",
     "output_type": "stream",
     "text": [
      "[['Gustavo', 40], ['Maria', 22]]\n"
     ]
    }
   ],
   "source": [
    "teste = list()\n",
    "teste.append('Gustavo')\n",
    "teste.append(40)\n",
    "galera = list()\n",
    "galera.append(teste[:])\n",
    "teste[0] = 'Maria'\n",
    "teste[1] = 22\n",
    "galera.append(teste[:])\n",
    "print(galera)"
   ]
  },
  {
   "cell_type": "code",
   "execution_count": 16,
   "metadata": {},
   "outputs": [
    {
     "name": "stdout",
     "output_type": "stream",
     "text": [
      "João tem 19 anos de idade\n",
      "Ana tem 33 anos de idade\n",
      "Joaquim tem 13 anos de idade\n",
      "Maria tem 45 anos de idade\n"
     ]
    }
   ],
   "source": [
    "galera = [\n",
    "    ['João', 19],\n",
    "    ['Ana', 33],\n",
    "    ['Joaquim', 13],\n",
    "    ['Maria', 45]\n",
    "]\n",
    "for p in galera:\n",
    "    print(f'{p[0]} tem {p[1]} anos de idade')"
   ]
  },
  {
   "cell_type": "code",
   "execution_count": 18,
   "metadata": {},
   "outputs": [
    {
     "name": "stdout",
     "output_type": "stream",
     "text": [
      "Aline é maior de idade\n",
      "Helena é menor de idade\n",
      "Guilherme é maior de idade\n",
      "Clau é menor de idade\n",
      "Pedro é menor de idade\n",
      "Temos 2 maiores e 3 menores de idade.\n"
     ]
    }
   ],
   "source": [
    "galera = list()\n",
    "dado = list()\n",
    "totmai = totmen = 0\n",
    "for c in range(0, 5):\n",
    "    dado.append(str(input('Nome: ')))\n",
    "    dado.append(int(input('Idade: ')))\n",
    "    galera.append(dado[:])\n",
    "    dado.clear()\n",
    "    \n",
    "for p in galera:\n",
    "    if p[1] >= 21:\n",
    "        print(f'{p[0]} é maior de idade')\n",
    "        totmai += 1\n",
    "    else:\n",
    "        print(f'{p[0]} é menor de idade')\n",
    "        totmen += 1\n",
    "print(f'Temos {totmai} maiores e {totmen} menores de idade.')"
   ]
  },
  {
   "cell_type": "code",
   "execution_count": 59,
   "metadata": {},
   "outputs": [
    {
     "name": "stdout",
     "output_type": "stream",
     "text": [
      "[('maria', 70.0), ('ana', 50.0), ('gustavo', 88.0), ('claudio', 85.0)]\n",
      "Ao todo você cadastrou 4 pessoas.\n",
      "O maior peso cadastrado foi 88.0kg.\n",
      "O menor peso cadastrado foi 50.0kg.\n"
     ]
    }
   ],
   "source": [
    "cadastro = []\n",
    "while True:\n",
    "    nome = input('Digite o nome: ')\n",
    "    peso = float(input('Digite o peso: '))\n",
    "    cadastro.append((nome, peso))\n",
    "    cont = input('Deseja continuar? [S/N] ').upper()\n",
    "    while cont not in 'SN':\n",
    "        print(\"Resposta inválida, tente novamente.\")\n",
    "        cont = input('Deseja continuar? [S/N] ').upper()\n",
    "    if cont == \"N\":\n",
    "        break\n",
    "\n",
    "maior_peso = menor_peso = 0\n",
    "\n",
    "for _, peso in cadastro:  # Change here to iterate over (nome, peso) tuples\n",
    "    if maior_peso == menor_peso == 0:\n",
    "        maior_peso = menor_peso = peso\n",
    "    elif peso >= maior_peso:\n",
    "        maior_peso = peso\n",
    "    elif peso <= menor_peso:\n",
    "        menor_peso = peso\n",
    "\n",
    "qtdd_pessoas = len(cadastro)\n",
    "\n",
    "print(cadastro)\n",
    "print(f'Ao todo você cadastrou {qtdd_pessoas} pessoas.')\n",
    "print(f'O maior peso cadastrado foi {maior_peso:.2f}kg.')\n",
    "print(f'O menor peso cadastrado foi {menor_peso:.2f}kg.')\n"
   ]
  }
 ],
 "metadata": {
  "kernelspec": {
   "display_name": "Python 3",
   "language": "python",
   "name": "python3"
  },
  "language_info": {
   "codemirror_mode": {
    "name": "ipython",
    "version": 3
   },
   "file_extension": ".py",
   "mimetype": "text/x-python",
   "name": "python",
   "nbconvert_exporter": "python",
   "pygments_lexer": "ipython3",
   "version": "3.12.1"
  }
 },
 "nbformat": 4,
 "nbformat_minor": 2
}
