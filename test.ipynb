{
 "cells": [
  {
   "cell_type": "code",
   "execution_count": 31,
   "metadata": {},
   "outputs": [
    {
     "name": "stdout",
     "output_type": "stream",
     "text": [
      "A soma dos primeiros 6 númeoros naturais é igual a 21.\n"
     ]
    }
   ],
   "source": [
    "n = int(input('Digite um número: '))\n",
    "soma= 0\n",
    "for i in range(0, n+1):\n",
    "    soma += i\n",
    "print(f'A soma dos primeiros {n} númeoros naturais é igual a {soma}.')"
   ]
  },
  {
   "cell_type": "code",
   "execution_count": 29,
   "metadata": {},
   "outputs": [
    {
     "name": "stdout",
     "output_type": "stream",
     "text": [
      "O resultado de 5! é igual a 120.\n"
     ]
    }
   ],
   "source": [
    "n = int(input('Digite um número para descobrir seu fatorial: '))\n",
    "mult= 1\n",
    "for i in range(n, 0, -1):\n",
    "    mult *= i\n",
    "print(f'O resultado de {n}! é igual a {mult}.')"
   ]
  },
  {
   "cell_type": "code",
   "execution_count": 33,
   "metadata": {},
   "outputs": [
    {
     "name": "stdout",
     "output_type": "stream",
     "text": [
      "A string possui 14 vogais.\n"
     ]
    }
   ],
   "source": [
    "# Pedindo ao usuário para inserir a string\n",
    "string = input(\"Digite uma string: \")\n",
    "\n",
    "# Inicializando a contagem de vogais\n",
    "contagem_vogais = 0\n",
    "\n",
    "# Definindo uma lista de vogais\n",
    "vogais = \"aeiouAEIOU\"\n",
    "\n",
    "# Usando um loop for para percorrer a string e contar as vogais\n",
    "for vog in string:\n",
    "    if vog in vogais:\n",
    "        contagem_vogais += 1\n",
    "\n",
    "# Exibindo o resultado\n",
    "print(\"A string possui\", contagem_vogais, \"vogais.\")\n"
   ]
  },
  {
   "cell_type": "code",
   "execution_count": 36,
   "metadata": {},
   "outputs": [
    {
     "name": "stdout",
     "output_type": "stream",
     "text": [
      "A senha digitada esta errada, tente novamente!\n",
      "A senha digitada esta errada, tente novamente!\n",
      "Bem vindo a plataforma!\n"
     ]
    }
   ],
   "source": [
    "password = 'python123'\n",
    "senha = input(\"Digite uma senha: \")\n",
    "while senha != password:\n",
    "    print(\"A senha digitada esta errada, tente novamente!\")\n",
    "    senha = input(\"Digite uma senha: \")\n",
    "print(\"Bem vindo a plataforma!\")"
   ]
  }
 ],
 "metadata": {
  "kernelspec": {
   "display_name": "Python 3",
   "language": "python",
   "name": "python3"
  },
  "language_info": {
   "codemirror_mode": {
    "name": "ipython",
    "version": 3
   },
   "file_extension": ".py",
   "mimetype": "text/x-python",
   "name": "python",
   "nbconvert_exporter": "python",
   "pygments_lexer": "ipython3",
   "version": "3.12.1"
  }
 },
 "nbformat": 4,
 "nbformat_minor": 2
}
