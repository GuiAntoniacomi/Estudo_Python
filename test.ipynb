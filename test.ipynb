{
 "cells": [
  {
   "cell_type": "code",
   "execution_count": 31,
   "metadata": {},
   "outputs": [
    {
     "name": "stdout",
     "output_type": "stream",
     "text": [
      "A soma dos primeiros 6 númeoros naturais é igual a 21.\n"
     ]
    }
   ],
   "source": [
    "n = int(input('Digite um número: '))\n",
    "soma= 0\n",
    "for i in range(0, n+1):\n",
    "    soma += i\n",
    "print(f'A soma dos primeiros {n} númeoros naturais é igual a {soma}.')"
   ]
  },
  {
   "cell_type": "code",
   "execution_count": 29,
   "metadata": {},
   "outputs": [
    {
     "name": "stdout",
     "output_type": "stream",
     "text": [
      "O resultado de 5! é igual a 120.\n"
     ]
    }
   ],
   "source": [
    "n = int(input('Digite um número para descobrir seu fatorial: '))\n",
    "mult= 1\n",
    "for i in range(n, 0, -1):\n",
    "    mult *= i\n",
    "print(f'O resultado de {n}! é igual a {mult}.')"
   ]
  },
  {
   "cell_type": "code",
   "execution_count": 33,
   "metadata": {},
   "outputs": [
    {
     "name": "stdout",
     "output_type": "stream",
     "text": [
      "A string possui 14 vogais.\n"
     ]
    }
   ],
   "source": [
    "# Pedindo ao usuário para inserir a string\n",
    "string = input(\"Digite uma string: \")\n",
    "\n",
    "# Inicializando a contagem de vogais\n",
    "contagem_vogais = 0\n",
    "\n",
    "# Definindo uma lista de vogais\n",
    "vogais = \"aeiouAEIOU\"\n",
    "\n",
    "# Usando um loop for para percorrer a string e contar as vogais\n",
    "for vog in string:\n",
    "    if vog in vogais:\n",
    "        contagem_vogais += 1\n",
    "\n",
    "# Exibindo o resultado\n",
    "print(\"A string possui\", contagem_vogais, \"vogais.\")\n"
   ]
  },
  {
   "cell_type": "code",
   "execution_count": 36,
   "metadata": {},
   "outputs": [
    {
     "name": "stdout",
     "output_type": "stream",
     "text": [
      "A senha digitada esta errada, tente novamente!\n",
      "A senha digitada esta errada, tente novamente!\n",
      "Bem vindo a plataforma!\n"
     ]
    }
   ],
   "source": [
    "password = 'python123'\n",
    "senha = input(\"Digite uma senha: \")\n",
    "while senha != password:\n",
    "    print(\"A senha digitada esta errada, tente novamente!\")\n",
    "    senha = input(\"Digite uma senha: \")\n",
    "print(\"Bem vindo a plataforma!\")"
   ]
  },
  {
   "cell_type": "code",
   "execution_count": 1,
   "metadata": {},
   "outputs": [
    {
     "ename": "ModuleNotFoundError",
     "evalue": "No module named 'google'",
     "output_type": "error",
     "traceback": [
      "\u001b[1;31m---------------------------------------------------------------------------\u001b[0m",
      "\u001b[1;31mModuleNotFoundError\u001b[0m                       Traceback (most recent call last)",
      "Cell \u001b[1;32mIn[1], line 1\u001b[0m\n\u001b[1;32m----> 1\u001b[0m \u001b[38;5;28;01mfrom\u001b[39;00m \u001b[38;5;21;01mgoogle\u001b[39;00m \u001b[38;5;28;01mimport\u001b[39;00m search\n\u001b[0;32m      2\u001b[0m \u001b[38;5;28;01mdef\u001b[39;00m \u001b[38;5;21mobter_palavras_chave\u001b[39m(site, num_resultados\u001b[38;5;241m=\u001b[39m\u001b[38;5;241m10\u001b[39m):\n\u001b[0;32m      3\u001b[0m     palavras_chave \u001b[38;5;241m=\u001b[39m []\n",
      "\u001b[1;31mModuleNotFoundError\u001b[0m: No module named 'google'"
     ]
    }
   ],
   "source": [
    "from google import search\n",
    "def obter_palavras_chave(site, num_resultados=10):\n",
    "    palavras_chave = []\n",
    "    try:\n",
    "        resultados = search(f\"site:{site}\", num=num_resultados, stop=num_resultados, pause=2)\n",
    "        for resultado in resultados:\n",
    "            palavras_chave.extend(resultado.split())\n",
    "    except Exception as e:\n",
    "        print(\"Ocorreu um erro ao realizar a pesquisa:\", e)\n",
    "    \n",
    "    return palavras_chave\n",
    "\n",
    "def contar_ocorrencias_palavra_chave(palavras_chave):\n",
    "    contagem = {}\n",
    "    for palavra_chave in palavras_chave:\n",
    "        if palavra_chave in contagem:\n",
    "            contagem[palavra_chave] += 1\n",
    "        else:\n",
    "            contagem[palavra_chave] = 1\n",
    "    return contagem\n",
    "\n",
    "def main():\n",
    "    site = input(\"Digite o site que deseja analisar: \")\n",
    "    num_resultados = int(input(\"Digite o número de resultados de pesquisa a serem analisados (máximo 100): \"))\n",
    "    \n",
    "    palavras_chave = obter_palavras_chave(site, num_resultados)\n",
    "    contagem_palavras_chave = contar_ocorrencias_palavra_chave(palavras_chave)\n",
    "    \n",
    "    print(\"\\nPalavras-chave e suas contagens:\")\n",
    "    for palavra_chave, contagem in contagem_palavras_chave.items():\n",
    "        print(f\"{palavra_chave}: {contagem}\")\n",
    "\n",
    "if _name_ == \"_main_\":\n",
    "    main()"
   ]
  }
 ],
 "metadata": {
  "kernelspec": {
   "display_name": "Python 3",
   "language": "python",
   "name": "python3"
  },
  "language_info": {
   "codemirror_mode": {
    "name": "ipython",
    "version": 3
   },
   "file_extension": ".py",
   "mimetype": "text/x-python",
   "name": "python",
   "nbconvert_exporter": "python",
   "pygments_lexer": "ipython3",
   "version": "3.12.1"
  }
 },
 "nbformat": 4,
 "nbformat_minor": 2
}
