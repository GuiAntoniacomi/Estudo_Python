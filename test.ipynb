{
 "cells": [
  {
   "cell_type": "code",
   "execution_count": 24,
   "metadata": {},
   "outputs": [
    {
     "name": "stdout",
     "output_type": "stream",
     "text": [
      "------------------------------------------------------------------------------------------------------------------------------------------------------\n",
      "0 → 1 → 1 → 2 → 3 → 5 → 8 → 13 → 21 → 34 → 55 → 89 → 144 → 233 → 377 → 610 → 987 → 1597 → 2584 → 4181 → 6765 → 10946 → 17711 → 28657 → 46368 → 75025 → 121393 → 196418 → 317811 → 514229 → FIM\n"
     ]
    }
   ],
   "source": [
    "n = int(input('Quantos termos você quer mostrar?'))\n",
    "t1 = 0\n",
    "t2 = 1\n",
    "print('-'*5*n)\n",
    "print(f'{t1} → {t2} →', end=\" \")\n",
    "cont = 3\n",
    "while cont <= n:\n",
    "    t3 = t1 + t2\n",
    "    print(f'{t3} → ', end=\"\")\n",
    "    t1 = t2\n",
    "    t2 = t3\n",
    "    cont += 1\n",
    "print('FIM')"
   ]
  }
 ],
 "metadata": {
  "kernelspec": {
   "display_name": "Python 3",
   "language": "python",
   "name": "python3"
  },
  "language_info": {
   "codemirror_mode": {
    "name": "ipython",
    "version": 3
   },
   "file_extension": ".py",
   "mimetype": "text/x-python",
   "name": "python",
   "nbconvert_exporter": "python",
   "pygments_lexer": "ipython3",
   "version": "3.12.1"
  }
 },
 "nbformat": 4,
 "nbformat_minor": 2
}
