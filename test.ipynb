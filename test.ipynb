{
 "cells": [
  {
   "cell_type": "code",
   "execution_count": 12,
   "metadata": {},
   "outputs": [
    {
     "name": "stdout",
     "output_type": "stream",
     "text": [
      "2 4 6 8 10 12 14 16 18 20 \n",
      "Deseja ver mais valores? Se sim, digite quantos a mais gostaria de ver; se não, digite 0: \n",
      "22 24 "
     ]
    },
    {
     "ename": "KeyboardInterrupt",
     "evalue": "",
     "output_type": "error",
     "traceback": [
      "\u001b[1;31m---------------------------------------------------------------------------\u001b[0m",
      "\u001b[1;31mKeyboardInterrupt\u001b[0m                         Traceback (most recent call last)",
      "Cell \u001b[1;32mIn[12], line 15\u001b[0m\n\u001b[0;32m     13\u001b[0m \u001b[38;5;28mprint\u001b[39m(\u001b[38;5;124m'\u001b[39m\u001b[38;5;124mDeseja ver mais valores? Se sim, digite quantos a mais gostaria de ver; se não, digite 0: \u001b[39m\u001b[38;5;124m'\u001b[39m)\n\u001b[0;32m     14\u001b[0m cont \u001b[38;5;241m=\u001b[39m \u001b[38;5;28mint\u001b[39m(\u001b[38;5;28minput\u001b[39m(\u001b[38;5;124m'\u001b[39m\u001b[38;5;124mQual opção escolhe? \u001b[39m\u001b[38;5;124m'\u001b[39m))\n\u001b[1;32m---> 15\u001b[0m \u001b[38;5;28;01mwhile\u001b[39;00m cont \u001b[38;5;241m!=\u001b[39m \u001b[38;5;241m0\u001b[39m:\n\u001b[0;32m     16\u001b[0m     \u001b[38;5;28;01mif\u001b[39;00m cont \u001b[38;5;241m==\u001b[39m \u001b[38;5;241m0\u001b[39m:\n\u001b[0;32m     17\u001b[0m         \u001b[38;5;28mprint\u001b[39m(\u001b[38;5;124m\"\u001b[39m\u001b[38;5;124mProgramada encerrado.\u001b[39m\u001b[38;5;124m\"\u001b[39m)\n",
      "\u001b[1;31mKeyboardInterrupt\u001b[0m: "
     ]
    }
   ],
   "source": [
    "p = int(input('Digite o primeiro termo: '))\n",
    "r = int(input('Qual a razão dessa PA? '))\n",
    "contador = 0\n",
    "lista = []\n",
    "while contador < 10:  # 10 representa o número de termos que você quer imprimir\n",
    "    print(p, end=' ')\n",
    "    p += r  # Adiciona a razão para obter o próximo termo\n",
    "    contador += 1\n",
    "    lista.append(p)\n",
    "    ultimo_valor = lista[-1] \n",
    "    \n",
    "print()  # Imprime uma linha em branco\n",
    "print('Deseja ver mais valores? Se sim, digite quantos a mais gostaria de ver; se não, digite 0: ')\n",
    "cont = int(input('Qual opção escolhe? '))\n",
    "while cont != 0:\n",
    "    if cont == 0:\n",
    "        print(\"Programada encerrado.\")\n",
    "    else:\n",
    "        while contador < 10+cont:\n",
    "            print(ultimo_valor, end=' ')\n",
    "            ultimo_valor += r\n",
    "            contador += 1\n",
    "            cont = int(input('Quantos valores a mais gostaria de ver?'))\n"
   ]
  }
 ],
 "metadata": {
  "kernelspec": {
   "display_name": "Python 3",
   "language": "python",
   "name": "python3"
  },
  "language_info": {
   "codemirror_mode": {
    "name": "ipython",
    "version": 3
   },
   "file_extension": ".py",
   "mimetype": "text/x-python",
   "name": "python",
   "nbconvert_exporter": "python",
   "pygments_lexer": "ipython3",
   "version": "3.12.1"
  }
 },
 "nbformat": 4,
 "nbformat_minor": 2
}
